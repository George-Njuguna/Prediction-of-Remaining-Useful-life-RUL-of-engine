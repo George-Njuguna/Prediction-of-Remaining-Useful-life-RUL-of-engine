{
 "cells": [
  {
   "cell_type": "markdown",
   "id": "d8194561",
   "metadata": {},
   "source": [
    "### PREDICTING  REMAINING USEFULL LIFE OF JET ENGINES"
   ]
  },
  {
   "cell_type": "code",
   "execution_count": 1,
   "id": "2c221dff",
   "metadata": {},
   "outputs": [],
   "source": [
    " # import dependancies\n",
    "import pandas as pd "
   ]
  },
  {
   "cell_type": "code",
   "execution_count": null,
   "id": "ab406f2e",
   "metadata": {},
   "outputs": [],
   "source": [
    " # setting up columns  \n",
    "column_names = ['engine_id', 'cycle'] + \\\n",
    "               [f'op_setting_{i}' for i in range(1, 4)] + \\\n",
    "               [f'sensor_{i}' for i in range(1, 22)]\n",
    "\n",
    " # Loading the data\n",
    "train_df = pd.read_csv('train_FD001.txt', sep='\\s+', header=None, names=column_names)"
   ]
  }
 ],
 "metadata": {
  "kernelspec": {
   "display_name": "Python 3",
   "language": "python",
   "name": "python3"
  },
  "language_info": {
   "codemirror_mode": {
    "name": "ipython",
    "version": 3
   },
   "file_extension": ".py",
   "mimetype": "text/x-python",
   "name": "python",
   "nbconvert_exporter": "python",
   "pygments_lexer": "ipython3",
   "version": "3.12.10"
  }
 },
 "nbformat": 4,
 "nbformat_minor": 5
}
