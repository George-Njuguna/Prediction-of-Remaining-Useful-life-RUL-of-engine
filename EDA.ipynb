{
 "cells": [
  {
   "cell_type": "markdown",
   "id": "d8194561",
   "metadata": {},
   "source": [
    "### PREDICTING  REMAINING USEFULL LIFE OF JET ENGINES"
   ]
  },
  {
   "cell_type": "code",
   "execution_count": 1,
   "id": "2c221dff",
   "metadata": {},
   "outputs": [],
   "source": [
    " # import dependancies\n",
    "import pandas as pd "
   ]
  },
  {
   "cell_type": "code",
   "execution_count": null,
   "id": "ab406f2e",
   "metadata": {},
   "outputs": [],
   "source": [
    " # setting up columns  \n",
    "column_names = ['engine_id', 'cycle'] + \\\n",
    "               [f'operational_setting_{i}' for i in range(1, 4)] + \\\n",
    "               [f'sensor_measurement_{i}' for i in range(1, 22)]\n",
    "\n",
    " # Loading the data\n",
    "train_df = pd.read_csv('train_FD001.txt', sep='\\s+', header=None, names=column_names)"
   ]
  },
  {
   "cell_type": "code",
   "execution_count": null,
   "id": "f786c621",
   "metadata": {},
   "outputs": [
    {
     "data": {
      "application/vnd.microsoft.datawrangler.viewer.v0+json": {
       "columns": [
        {
         "name": "index",
         "rawType": "int64",
         "type": "integer"
        },
        {
         "name": "engine_id",
         "rawType": "int64",
         "type": "integer"
        },
        {
         "name": "cycle",
         "rawType": "int64",
         "type": "integer"
        },
        {
         "name": "operational_setting_1",
         "rawType": "float64",
         "type": "float"
        },
        {
         "name": "operational_setting_2",
         "rawType": "float64",
         "type": "float"
        },
        {
         "name": "operational_setting_3",
         "rawType": "float64",
         "type": "float"
        },
        {
         "name": "sensor_measurement_1",
         "rawType": "float64",
         "type": "float"
        },
        {
         "name": "sensor_measurement_2",
         "rawType": "float64",
         "type": "float"
        },
        {
         "name": "sensor_measurement_3",
         "rawType": "float64",
         "type": "float"
        },
        {
         "name": "sensor_measurement_4",
         "rawType": "float64",
         "type": "float"
        },
        {
         "name": "sensor_measurement_5",
         "rawType": "float64",
         "type": "float"
        },
        {
         "name": "sensor_measurement_6",
         "rawType": "float64",
         "type": "float"
        },
        {
         "name": "sensor_measurement_7",
         "rawType": "float64",
         "type": "float"
        },
        {
         "name": "sensor_measurement_8",
         "rawType": "float64",
         "type": "float"
        },
        {
         "name": "sensor_measurement_9",
         "rawType": "float64",
         "type": "float"
        },
        {
         "name": "sensor_measurement_10",
         "rawType": "float64",
         "type": "float"
        },
        {
         "name": "sensor_measurement_11",
         "rawType": "float64",
         "type": "float"
        },
        {
         "name": "sensor_measurement_12",
         "rawType": "float64",
         "type": "float"
        },
        {
         "name": "sensor_measurement_13",
         "rawType": "float64",
         "type": "float"
        },
        {
         "name": "sensor_measurement_14",
         "rawType": "float64",
         "type": "float"
        },
        {
         "name": "sensor_measurement_15",
         "rawType": "float64",
         "type": "float"
        },
        {
         "name": "sensor_measurement_16",
         "rawType": "float64",
         "type": "float"
        },
        {
         "name": "sensor_measurement_17",
         "rawType": "int64",
         "type": "integer"
        },
        {
         "name": "sensor_measurement_18",
         "rawType": "int64",
         "type": "integer"
        },
        {
         "name": "sensor_measurement_19",
         "rawType": "float64",
         "type": "float"
        },
        {
         "name": "sensor_measurement_20",
         "rawType": "float64",
         "type": "float"
        },
        {
         "name": "sensor_measurement_21",
         "rawType": "float64",
         "type": "float"
        }
       ],
       "ref": "caea69af-a5d7-4980-bf7a-0fdb7430e622",
       "rows": [
        [
         "0",
         "1",
         "1",
         "-0.0007",
         "-0.0004",
         "100.0",
         "518.67",
         "641.82",
         "1589.7",
         "1400.6",
         "14.62",
         "21.61",
         "554.36",
         "2388.06",
         "9046.19",
         "1.3",
         "47.47",
         "521.66",
         "2388.02",
         "8138.62",
         "8.4195",
         "0.03",
         "392",
         "2388",
         "100.0",
         "39.06",
         "23.419"
        ],
        [
         "1",
         "1",
         "2",
         "0.0019",
         "-0.0003",
         "100.0",
         "518.67",
         "642.15",
         "1591.82",
         "1403.14",
         "14.62",
         "21.61",
         "553.75",
         "2388.04",
         "9044.07",
         "1.3",
         "47.49",
         "522.28",
         "2388.07",
         "8131.49",
         "8.4318",
         "0.03",
         "392",
         "2388",
         "100.0",
         "39.0",
         "23.4236"
        ],
        [
         "2",
         "1",
         "3",
         "-0.0043",
         "0.0003",
         "100.0",
         "518.67",
         "642.35",
         "1587.99",
         "1404.2",
         "14.62",
         "21.61",
         "554.26",
         "2388.08",
         "9052.94",
         "1.3",
         "47.27",
         "522.42",
         "2388.03",
         "8133.23",
         "8.4178",
         "0.03",
         "390",
         "2388",
         "100.0",
         "38.95",
         "23.3442"
        ],
        [
         "3",
         "1",
         "4",
         "0.0007",
         "0.0",
         "100.0",
         "518.67",
         "642.35",
         "1582.79",
         "1401.87",
         "14.62",
         "21.61",
         "554.45",
         "2388.11",
         "9049.48",
         "1.3",
         "47.13",
         "522.86",
         "2388.08",
         "8133.83",
         "8.3682",
         "0.03",
         "392",
         "2388",
         "100.0",
         "38.88",
         "23.3739"
        ],
        [
         "4",
         "1",
         "5",
         "-0.0019",
         "-0.0002",
         "100.0",
         "518.67",
         "642.37",
         "1582.85",
         "1406.22",
         "14.62",
         "21.61",
         "554.0",
         "2388.06",
         "9055.15",
         "1.3",
         "47.28",
         "522.19",
         "2388.04",
         "8133.8",
         "8.4294",
         "0.03",
         "393",
         "2388",
         "100.0",
         "38.9",
         "23.4044"
        ]
       ],
       "shape": {
        "columns": 26,
        "rows": 5
       }
      },
      "text/html": [
       "<div>\n",
       "<style scoped>\n",
       "    .dataframe tbody tr th:only-of-type {\n",
       "        vertical-align: middle;\n",
       "    }\n",
       "\n",
       "    .dataframe tbody tr th {\n",
       "        vertical-align: top;\n",
       "    }\n",
       "\n",
       "    .dataframe thead th {\n",
       "        text-align: right;\n",
       "    }\n",
       "</style>\n",
       "<table border=\"1\" class=\"dataframe\">\n",
       "  <thead>\n",
       "    <tr style=\"text-align: right;\">\n",
       "      <th></th>\n",
       "      <th>engine_id</th>\n",
       "      <th>cycle</th>\n",
       "      <th>operational_setting_1</th>\n",
       "      <th>operational_setting_2</th>\n",
       "      <th>operational_setting_3</th>\n",
       "      <th>sensor_measurement_1</th>\n",
       "      <th>sensor_measurement_2</th>\n",
       "      <th>sensor_measurement_3</th>\n",
       "      <th>sensor_measurement_4</th>\n",
       "      <th>sensor_measurement_5</th>\n",
       "      <th>...</th>\n",
       "      <th>sensor_measurement_12</th>\n",
       "      <th>sensor_measurement_13</th>\n",
       "      <th>sensor_measurement_14</th>\n",
       "      <th>sensor_measurement_15</th>\n",
       "      <th>sensor_measurement_16</th>\n",
       "      <th>sensor_measurement_17</th>\n",
       "      <th>sensor_measurement_18</th>\n",
       "      <th>sensor_measurement_19</th>\n",
       "      <th>sensor_measurement_20</th>\n",
       "      <th>sensor_measurement_21</th>\n",
       "    </tr>\n",
       "  </thead>\n",
       "  <tbody>\n",
       "    <tr>\n",
       "      <th>0</th>\n",
       "      <td>1</td>\n",
       "      <td>1</td>\n",
       "      <td>-0.0007</td>\n",
       "      <td>-0.0004</td>\n",
       "      <td>100.0</td>\n",
       "      <td>518.67</td>\n",
       "      <td>641.82</td>\n",
       "      <td>1589.70</td>\n",
       "      <td>1400.60</td>\n",
       "      <td>14.62</td>\n",
       "      <td>...</td>\n",
       "      <td>521.66</td>\n",
       "      <td>2388.02</td>\n",
       "      <td>8138.62</td>\n",
       "      <td>8.4195</td>\n",
       "      <td>0.03</td>\n",
       "      <td>392</td>\n",
       "      <td>2388</td>\n",
       "      <td>100.0</td>\n",
       "      <td>39.06</td>\n",
       "      <td>23.4190</td>\n",
       "    </tr>\n",
       "    <tr>\n",
       "      <th>1</th>\n",
       "      <td>1</td>\n",
       "      <td>2</td>\n",
       "      <td>0.0019</td>\n",
       "      <td>-0.0003</td>\n",
       "      <td>100.0</td>\n",
       "      <td>518.67</td>\n",
       "      <td>642.15</td>\n",
       "      <td>1591.82</td>\n",
       "      <td>1403.14</td>\n",
       "      <td>14.62</td>\n",
       "      <td>...</td>\n",
       "      <td>522.28</td>\n",
       "      <td>2388.07</td>\n",
       "      <td>8131.49</td>\n",
       "      <td>8.4318</td>\n",
       "      <td>0.03</td>\n",
       "      <td>392</td>\n",
       "      <td>2388</td>\n",
       "      <td>100.0</td>\n",
       "      <td>39.00</td>\n",
       "      <td>23.4236</td>\n",
       "    </tr>\n",
       "    <tr>\n",
       "      <th>2</th>\n",
       "      <td>1</td>\n",
       "      <td>3</td>\n",
       "      <td>-0.0043</td>\n",
       "      <td>0.0003</td>\n",
       "      <td>100.0</td>\n",
       "      <td>518.67</td>\n",
       "      <td>642.35</td>\n",
       "      <td>1587.99</td>\n",
       "      <td>1404.20</td>\n",
       "      <td>14.62</td>\n",
       "      <td>...</td>\n",
       "      <td>522.42</td>\n",
       "      <td>2388.03</td>\n",
       "      <td>8133.23</td>\n",
       "      <td>8.4178</td>\n",
       "      <td>0.03</td>\n",
       "      <td>390</td>\n",
       "      <td>2388</td>\n",
       "      <td>100.0</td>\n",
       "      <td>38.95</td>\n",
       "      <td>23.3442</td>\n",
       "    </tr>\n",
       "    <tr>\n",
       "      <th>3</th>\n",
       "      <td>1</td>\n",
       "      <td>4</td>\n",
       "      <td>0.0007</td>\n",
       "      <td>0.0000</td>\n",
       "      <td>100.0</td>\n",
       "      <td>518.67</td>\n",
       "      <td>642.35</td>\n",
       "      <td>1582.79</td>\n",
       "      <td>1401.87</td>\n",
       "      <td>14.62</td>\n",
       "      <td>...</td>\n",
       "      <td>522.86</td>\n",
       "      <td>2388.08</td>\n",
       "      <td>8133.83</td>\n",
       "      <td>8.3682</td>\n",
       "      <td>0.03</td>\n",
       "      <td>392</td>\n",
       "      <td>2388</td>\n",
       "      <td>100.0</td>\n",
       "      <td>38.88</td>\n",
       "      <td>23.3739</td>\n",
       "    </tr>\n",
       "    <tr>\n",
       "      <th>4</th>\n",
       "      <td>1</td>\n",
       "      <td>5</td>\n",
       "      <td>-0.0019</td>\n",
       "      <td>-0.0002</td>\n",
       "      <td>100.0</td>\n",
       "      <td>518.67</td>\n",
       "      <td>642.37</td>\n",
       "      <td>1582.85</td>\n",
       "      <td>1406.22</td>\n",
       "      <td>14.62</td>\n",
       "      <td>...</td>\n",
       "      <td>522.19</td>\n",
       "      <td>2388.04</td>\n",
       "      <td>8133.80</td>\n",
       "      <td>8.4294</td>\n",
       "      <td>0.03</td>\n",
       "      <td>393</td>\n",
       "      <td>2388</td>\n",
       "      <td>100.0</td>\n",
       "      <td>38.90</td>\n",
       "      <td>23.4044</td>\n",
       "    </tr>\n",
       "  </tbody>\n",
       "</table>\n",
       "<p>5 rows × 26 columns</p>\n",
       "</div>"
      ],
      "text/plain": [
       "   engine_id  cycle  operational_setting_1  operational_setting_2  \\\n",
       "0          1      1                -0.0007                -0.0004   \n",
       "1          1      2                 0.0019                -0.0003   \n",
       "2          1      3                -0.0043                 0.0003   \n",
       "3          1      4                 0.0007                 0.0000   \n",
       "4          1      5                -0.0019                -0.0002   \n",
       "\n",
       "   operational_setting_3  sensor_measurement_1  sensor_measurement_2  \\\n",
       "0                  100.0                518.67                641.82   \n",
       "1                  100.0                518.67                642.15   \n",
       "2                  100.0                518.67                642.35   \n",
       "3                  100.0                518.67                642.35   \n",
       "4                  100.0                518.67                642.37   \n",
       "\n",
       "   sensor_measurement_3  sensor_measurement_4  sensor_measurement_5  ...  \\\n",
       "0               1589.70               1400.60                 14.62  ...   \n",
       "1               1591.82               1403.14                 14.62  ...   \n",
       "2               1587.99               1404.20                 14.62  ...   \n",
       "3               1582.79               1401.87                 14.62  ...   \n",
       "4               1582.85               1406.22                 14.62  ...   \n",
       "\n",
       "   sensor_measurement_12  sensor_measurement_13  sensor_measurement_14  \\\n",
       "0                 521.66                2388.02                8138.62   \n",
       "1                 522.28                2388.07                8131.49   \n",
       "2                 522.42                2388.03                8133.23   \n",
       "3                 522.86                2388.08                8133.83   \n",
       "4                 522.19                2388.04                8133.80   \n",
       "\n",
       "   sensor_measurement_15  sensor_measurement_16  sensor_measurement_17  \\\n",
       "0                 8.4195                   0.03                    392   \n",
       "1                 8.4318                   0.03                    392   \n",
       "2                 8.4178                   0.03                    390   \n",
       "3                 8.3682                   0.03                    392   \n",
       "4                 8.4294                   0.03                    393   \n",
       "\n",
       "   sensor_measurement_18  sensor_measurement_19  sensor_measurement_20  \\\n",
       "0                   2388                  100.0                  39.06   \n",
       "1                   2388                  100.0                  39.00   \n",
       "2                   2388                  100.0                  38.95   \n",
       "3                   2388                  100.0                  38.88   \n",
       "4                   2388                  100.0                  38.90   \n",
       "\n",
       "   sensor_measurement_21  \n",
       "0                23.4190  \n",
       "1                23.4236  \n",
       "2                23.3442  \n",
       "3                23.3739  \n",
       "4                23.4044  \n",
       "\n",
       "[5 rows x 26 columns]"
      ]
     },
     "metadata": {},
     "output_type": "display_data"
    },
    {
     "name": "stdout",
     "output_type": "stream",
     "text": [
      "(20631, 26)\n",
      "<class 'pandas.core.frame.DataFrame'>\n",
      "RangeIndex: 20631 entries, 0 to 20630\n",
      "Data columns (total 26 columns):\n",
      " #   Column                 Non-Null Count  Dtype  \n",
      "---  ------                 --------------  -----  \n",
      " 0   engine_id              20631 non-null  int64  \n",
      " 1   cycle                  20631 non-null  int64  \n",
      " 2   operational_setting_1  20631 non-null  float64\n",
      " 3   operational_setting_2  20631 non-null  float64\n",
      " 4   operational_setting_3  20631 non-null  float64\n",
      " 5   sensor_measurement_1   20631 non-null  float64\n",
      " 6   sensor_measurement_2   20631 non-null  float64\n",
      " 7   sensor_measurement_3   20631 non-null  float64\n",
      " 8   sensor_measurement_4   20631 non-null  float64\n",
      " 9   sensor_measurement_5   20631 non-null  float64\n",
      " 10  sensor_measurement_6   20631 non-null  float64\n",
      " 11  sensor_measurement_7   20631 non-null  float64\n",
      " 12  sensor_measurement_8   20631 non-null  float64\n",
      " 13  sensor_measurement_9   20631 non-null  float64\n",
      " 14  sensor_measurement_10  20631 non-null  float64\n",
      " 15  sensor_measurement_11  20631 non-null  float64\n",
      " 16  sensor_measurement_12  20631 non-null  float64\n",
      " 17  sensor_measurement_13  20631 non-null  float64\n",
      " 18  sensor_measurement_14  20631 non-null  float64\n",
      " 19  sensor_measurement_15  20631 non-null  float64\n",
      " 20  sensor_measurement_16  20631 non-null  float64\n",
      " 21  sensor_measurement_17  20631 non-null  int64  \n",
      " 22  sensor_measurement_18  20631 non-null  int64  \n",
      " 23  sensor_measurement_19  20631 non-null  float64\n",
      " 24  sensor_measurement_20  20631 non-null  float64\n",
      " 25  sensor_measurement_21  20631 non-null  float64\n",
      "dtypes: float64(22), int64(4)\n",
      "memory usage: 4.1 MB\n"
     ]
    },
    {
     "data": {
      "application/vnd.microsoft.datawrangler.viewer.v0+json": {
       "columns": [
        {
         "name": "index",
         "rawType": "object",
         "type": "string"
        },
        {
         "name": "count",
         "rawType": "float64",
         "type": "float"
        },
        {
         "name": "mean",
         "rawType": "float64",
         "type": "float"
        },
        {
         "name": "std",
         "rawType": "float64",
         "type": "float"
        },
        {
         "name": "min",
         "rawType": "float64",
         "type": "float"
        },
        {
         "name": "25%",
         "rawType": "float64",
         "type": "float"
        },
        {
         "name": "50%",
         "rawType": "float64",
         "type": "float"
        },
        {
         "name": "75%",
         "rawType": "float64",
         "type": "float"
        },
        {
         "name": "max",
         "rawType": "float64",
         "type": "float"
        }
       ],
       "ref": "a315a2ff-e3e0-4b4b-bde2-85039181e3eb",
       "rows": [
        [
         "engine_id",
         "20631.0",
         "51.506567786340945",
         "29.227632908799244",
         "1.0",
         "26.0",
         "52.0",
         "77.0",
         "100.0"
        ],
        [
         "cycle",
         "20631.0",
         "108.80786195530997",
         "68.88099017721821",
         "1.0",
         "52.0",
         "104.0",
         "156.0",
         "362.0"
        ],
        [
         "operational_setting_1",
         "20631.0",
         "-8.87014686636615e-06",
         "0.002187313449015146",
         "-0.0087",
         "-0.0015",
         "0.0",
         "0.0015",
         "0.0087"
        ],
        [
         "operational_setting_2",
         "20631.0",
         "2.3508312733265476e-06",
         "0.00029306212456614496",
         "-0.0006",
         "-0.0002",
         "0.0",
         "0.0003",
         "0.0006"
        ],
        [
         "operational_setting_3",
         "20631.0",
         "100.0",
         "0.0",
         "100.0",
         "100.0",
         "100.0",
         "100.0",
         "100.0"
        ],
        [
         "sensor_measurement_1",
         "20631.0",
         "518.67",
         "0.0",
         "518.67",
         "518.67",
         "518.67",
         "518.67",
         "518.67"
        ],
        [
         "sensor_measurement_2",
         "20631.0",
         "642.6809335466046",
         "0.5000532700606232",
         "641.21",
         "642.325",
         "642.64",
         "643.0",
         "644.53"
        ],
        [
         "sensor_measurement_3",
         "20631.0",
         "1590.5231186079204",
         "6.131149519690819",
         "1571.04",
         "1586.26",
         "1590.1",
         "1594.38",
         "1616.91"
        ],
        [
         "sensor_measurement_4",
         "20631.0",
         "1408.9337816877514",
         "9.000604780543714",
         "1382.25",
         "1402.36",
         "1408.04",
         "1414.5549999999998",
         "1441.49"
        ],
        [
         "sensor_measurement_5",
         "20631.0",
         "14.620000000000001",
         "1.776399891637612e-15",
         "14.62",
         "14.62",
         "14.62",
         "14.62",
         "14.62"
        ],
        [
         "sensor_measurement_6",
         "20631.0",
         "21.60980320876352",
         "0.0013889849127073112",
         "21.6",
         "21.61",
         "21.61",
         "21.61",
         "21.61"
        ],
        [
         "sensor_measurement_7",
         "20631.0",
         "553.367711211284",
         "0.8850922576634073",
         "549.85",
         "552.81",
         "553.44",
         "554.01",
         "556.06"
        ],
        [
         "sensor_measurement_8",
         "20631.0",
         "2388.0966516407348",
         "0.07098547889092417",
         "2387.9",
         "2388.05",
         "2388.09",
         "2388.14",
         "2388.56"
        ],
        [
         "sensor_measurement_9",
         "20631.0",
         "9065.242940720276",
         "22.082879525066232",
         "9021.73",
         "9053.1",
         "9060.66",
         "9069.42",
         "9244.59"
        ],
        [
         "sensor_measurement_10",
         "20631.0",
         "1.3",
         "0.0",
         "1.3",
         "1.3",
         "1.3",
         "1.3",
         "1.3"
        ],
        [
         "sensor_measurement_11",
         "20631.0",
         "47.54116814502448",
         "0.2670873986396848",
         "46.85",
         "47.35",
         "47.51",
         "47.7",
         "48.53"
        ],
        [
         "sensor_measurement_12",
         "20631.0",
         "521.4134700208425",
         "0.7375533922097114",
         "518.69",
         "520.96",
         "521.48",
         "521.95",
         "523.38"
        ],
        [
         "sensor_measurement_13",
         "20631.0",
         "2388.0961523920314",
         "0.07191891569857813",
         "2387.88",
         "2388.04",
         "2388.09",
         "2388.14",
         "2388.56"
        ],
        [
         "sensor_measurement_14",
         "20631.0",
         "8143.752722117202",
         "19.07617597595311",
         "8099.94",
         "8133.245",
         "8140.54",
         "8148.31",
         "8293.72"
        ],
        [
         "sensor_measurement_15",
         "20631.0",
         "8.44214558189133",
         "0.03750503795196652",
         "8.3249",
         "8.4149",
         "8.4389",
         "8.4656",
         "8.5848"
        ],
        [
         "sensor_measurement_16",
         "20631.0",
         "0.030000000000000013",
         "1.3878124153418844e-17",
         "0.03",
         "0.03",
         "0.03",
         "0.03",
         "0.03"
        ],
        [
         "sensor_measurement_17",
         "20631.0",
         "393.2106538703892",
         "1.5487630246142987",
         "388.0",
         "392.0",
         "393.0",
         "394.0",
         "400.0"
        ],
        [
         "sensor_measurement_18",
         "20631.0",
         "2388.0",
         "0.0",
         "2388.0",
         "2388.0",
         "2388.0",
         "2388.0",
         "2388.0"
        ],
        [
         "sensor_measurement_19",
         "20631.0",
         "100.0",
         "0.0",
         "100.0",
         "100.0",
         "100.0",
         "100.0",
         "100.0"
        ],
        [
         "sensor_measurement_20",
         "20631.0",
         "38.816270660656286",
         "0.18074642787366085",
         "38.14",
         "38.7",
         "38.83",
         "38.95",
         "39.43"
        ],
        [
         "sensor_measurement_21",
         "20631.0",
         "23.289705360864716",
         "0.10825087474491234",
         "22.8942",
         "23.2218",
         "23.2979",
         "23.3668",
         "23.6184"
        ]
       ],
       "shape": {
        "columns": 8,
        "rows": 26
       }
      },
      "text/html": [
       "<div>\n",
       "<style scoped>\n",
       "    .dataframe tbody tr th:only-of-type {\n",
       "        vertical-align: middle;\n",
       "    }\n",
       "\n",
       "    .dataframe tbody tr th {\n",
       "        vertical-align: top;\n",
       "    }\n",
       "\n",
       "    .dataframe thead th {\n",
       "        text-align: right;\n",
       "    }\n",
       "</style>\n",
       "<table border=\"1\" class=\"dataframe\">\n",
       "  <thead>\n",
       "    <tr style=\"text-align: right;\">\n",
       "      <th></th>\n",
       "      <th>count</th>\n",
       "      <th>mean</th>\n",
       "      <th>std</th>\n",
       "      <th>min</th>\n",
       "      <th>25%</th>\n",
       "      <th>50%</th>\n",
       "      <th>75%</th>\n",
       "      <th>max</th>\n",
       "    </tr>\n",
       "  </thead>\n",
       "  <tbody>\n",
       "    <tr>\n",
       "      <th>engine_id</th>\n",
       "      <td>20631.0</td>\n",
       "      <td>51.506568</td>\n",
       "      <td>2.922763e+01</td>\n",
       "      <td>1.0000</td>\n",
       "      <td>26.0000</td>\n",
       "      <td>52.0000</td>\n",
       "      <td>77.0000</td>\n",
       "      <td>100.0000</td>\n",
       "    </tr>\n",
       "    <tr>\n",
       "      <th>cycle</th>\n",
       "      <td>20631.0</td>\n",
       "      <td>108.807862</td>\n",
       "      <td>6.888099e+01</td>\n",
       "      <td>1.0000</td>\n",
       "      <td>52.0000</td>\n",
       "      <td>104.0000</td>\n",
       "      <td>156.0000</td>\n",
       "      <td>362.0000</td>\n",
       "    </tr>\n",
       "    <tr>\n",
       "      <th>operational_setting_1</th>\n",
       "      <td>20631.0</td>\n",
       "      <td>-0.000009</td>\n",
       "      <td>2.187313e-03</td>\n",
       "      <td>-0.0087</td>\n",
       "      <td>-0.0015</td>\n",
       "      <td>0.0000</td>\n",
       "      <td>0.0015</td>\n",
       "      <td>0.0087</td>\n",
       "    </tr>\n",
       "    <tr>\n",
       "      <th>operational_setting_2</th>\n",
       "      <td>20631.0</td>\n",
       "      <td>0.000002</td>\n",
       "      <td>2.930621e-04</td>\n",
       "      <td>-0.0006</td>\n",
       "      <td>-0.0002</td>\n",
       "      <td>0.0000</td>\n",
       "      <td>0.0003</td>\n",
       "      <td>0.0006</td>\n",
       "    </tr>\n",
       "    <tr>\n",
       "      <th>operational_setting_3</th>\n",
       "      <td>20631.0</td>\n",
       "      <td>100.000000</td>\n",
       "      <td>0.000000e+00</td>\n",
       "      <td>100.0000</td>\n",
       "      <td>100.0000</td>\n",
       "      <td>100.0000</td>\n",
       "      <td>100.0000</td>\n",
       "      <td>100.0000</td>\n",
       "    </tr>\n",
       "    <tr>\n",
       "      <th>sensor_measurement_1</th>\n",
       "      <td>20631.0</td>\n",
       "      <td>518.670000</td>\n",
       "      <td>0.000000e+00</td>\n",
       "      <td>518.6700</td>\n",
       "      <td>518.6700</td>\n",
       "      <td>518.6700</td>\n",
       "      <td>518.6700</td>\n",
       "      <td>518.6700</td>\n",
       "    </tr>\n",
       "    <tr>\n",
       "      <th>sensor_measurement_2</th>\n",
       "      <td>20631.0</td>\n",
       "      <td>642.680934</td>\n",
       "      <td>5.000533e-01</td>\n",
       "      <td>641.2100</td>\n",
       "      <td>642.3250</td>\n",
       "      <td>642.6400</td>\n",
       "      <td>643.0000</td>\n",
       "      <td>644.5300</td>\n",
       "    </tr>\n",
       "    <tr>\n",
       "      <th>sensor_measurement_3</th>\n",
       "      <td>20631.0</td>\n",
       "      <td>1590.523119</td>\n",
       "      <td>6.131150e+00</td>\n",
       "      <td>1571.0400</td>\n",
       "      <td>1586.2600</td>\n",
       "      <td>1590.1000</td>\n",
       "      <td>1594.3800</td>\n",
       "      <td>1616.9100</td>\n",
       "    </tr>\n",
       "    <tr>\n",
       "      <th>sensor_measurement_4</th>\n",
       "      <td>20631.0</td>\n",
       "      <td>1408.933782</td>\n",
       "      <td>9.000605e+00</td>\n",
       "      <td>1382.2500</td>\n",
       "      <td>1402.3600</td>\n",
       "      <td>1408.0400</td>\n",
       "      <td>1414.5550</td>\n",
       "      <td>1441.4900</td>\n",
       "    </tr>\n",
       "    <tr>\n",
       "      <th>sensor_measurement_5</th>\n",
       "      <td>20631.0</td>\n",
       "      <td>14.620000</td>\n",
       "      <td>1.776400e-15</td>\n",
       "      <td>14.6200</td>\n",
       "      <td>14.6200</td>\n",
       "      <td>14.6200</td>\n",
       "      <td>14.6200</td>\n",
       "      <td>14.6200</td>\n",
       "    </tr>\n",
       "    <tr>\n",
       "      <th>sensor_measurement_6</th>\n",
       "      <td>20631.0</td>\n",
       "      <td>21.609803</td>\n",
       "      <td>1.388985e-03</td>\n",
       "      <td>21.6000</td>\n",
       "      <td>21.6100</td>\n",
       "      <td>21.6100</td>\n",
       "      <td>21.6100</td>\n",
       "      <td>21.6100</td>\n",
       "    </tr>\n",
       "    <tr>\n",
       "      <th>sensor_measurement_7</th>\n",
       "      <td>20631.0</td>\n",
       "      <td>553.367711</td>\n",
       "      <td>8.850923e-01</td>\n",
       "      <td>549.8500</td>\n",
       "      <td>552.8100</td>\n",
       "      <td>553.4400</td>\n",
       "      <td>554.0100</td>\n",
       "      <td>556.0600</td>\n",
       "    </tr>\n",
       "    <tr>\n",
       "      <th>sensor_measurement_8</th>\n",
       "      <td>20631.0</td>\n",
       "      <td>2388.096652</td>\n",
       "      <td>7.098548e-02</td>\n",
       "      <td>2387.9000</td>\n",
       "      <td>2388.0500</td>\n",
       "      <td>2388.0900</td>\n",
       "      <td>2388.1400</td>\n",
       "      <td>2388.5600</td>\n",
       "    </tr>\n",
       "    <tr>\n",
       "      <th>sensor_measurement_9</th>\n",
       "      <td>20631.0</td>\n",
       "      <td>9065.242941</td>\n",
       "      <td>2.208288e+01</td>\n",
       "      <td>9021.7300</td>\n",
       "      <td>9053.1000</td>\n",
       "      <td>9060.6600</td>\n",
       "      <td>9069.4200</td>\n",
       "      <td>9244.5900</td>\n",
       "    </tr>\n",
       "    <tr>\n",
       "      <th>sensor_measurement_10</th>\n",
       "      <td>20631.0</td>\n",
       "      <td>1.300000</td>\n",
       "      <td>0.000000e+00</td>\n",
       "      <td>1.3000</td>\n",
       "      <td>1.3000</td>\n",
       "      <td>1.3000</td>\n",
       "      <td>1.3000</td>\n",
       "      <td>1.3000</td>\n",
       "    </tr>\n",
       "    <tr>\n",
       "      <th>sensor_measurement_11</th>\n",
       "      <td>20631.0</td>\n",
       "      <td>47.541168</td>\n",
       "      <td>2.670874e-01</td>\n",
       "      <td>46.8500</td>\n",
       "      <td>47.3500</td>\n",
       "      <td>47.5100</td>\n",
       "      <td>47.7000</td>\n",
       "      <td>48.5300</td>\n",
       "    </tr>\n",
       "    <tr>\n",
       "      <th>sensor_measurement_12</th>\n",
       "      <td>20631.0</td>\n",
       "      <td>521.413470</td>\n",
       "      <td>7.375534e-01</td>\n",
       "      <td>518.6900</td>\n",
       "      <td>520.9600</td>\n",
       "      <td>521.4800</td>\n",
       "      <td>521.9500</td>\n",
       "      <td>523.3800</td>\n",
       "    </tr>\n",
       "    <tr>\n",
       "      <th>sensor_measurement_13</th>\n",
       "      <td>20631.0</td>\n",
       "      <td>2388.096152</td>\n",
       "      <td>7.191892e-02</td>\n",
       "      <td>2387.8800</td>\n",
       "      <td>2388.0400</td>\n",
       "      <td>2388.0900</td>\n",
       "      <td>2388.1400</td>\n",
       "      <td>2388.5600</td>\n",
       "    </tr>\n",
       "    <tr>\n",
       "      <th>sensor_measurement_14</th>\n",
       "      <td>20631.0</td>\n",
       "      <td>8143.752722</td>\n",
       "      <td>1.907618e+01</td>\n",
       "      <td>8099.9400</td>\n",
       "      <td>8133.2450</td>\n",
       "      <td>8140.5400</td>\n",
       "      <td>8148.3100</td>\n",
       "      <td>8293.7200</td>\n",
       "    </tr>\n",
       "    <tr>\n",
       "      <th>sensor_measurement_15</th>\n",
       "      <td>20631.0</td>\n",
       "      <td>8.442146</td>\n",
       "      <td>3.750504e-02</td>\n",
       "      <td>8.3249</td>\n",
       "      <td>8.4149</td>\n",
       "      <td>8.4389</td>\n",
       "      <td>8.4656</td>\n",
       "      <td>8.5848</td>\n",
       "    </tr>\n",
       "    <tr>\n",
       "      <th>sensor_measurement_16</th>\n",
       "      <td>20631.0</td>\n",
       "      <td>0.030000</td>\n",
       "      <td>1.387812e-17</td>\n",
       "      <td>0.0300</td>\n",
       "      <td>0.0300</td>\n",
       "      <td>0.0300</td>\n",
       "      <td>0.0300</td>\n",
       "      <td>0.0300</td>\n",
       "    </tr>\n",
       "    <tr>\n",
       "      <th>sensor_measurement_17</th>\n",
       "      <td>20631.0</td>\n",
       "      <td>393.210654</td>\n",
       "      <td>1.548763e+00</td>\n",
       "      <td>388.0000</td>\n",
       "      <td>392.0000</td>\n",
       "      <td>393.0000</td>\n",
       "      <td>394.0000</td>\n",
       "      <td>400.0000</td>\n",
       "    </tr>\n",
       "    <tr>\n",
       "      <th>sensor_measurement_18</th>\n",
       "      <td>20631.0</td>\n",
       "      <td>2388.000000</td>\n",
       "      <td>0.000000e+00</td>\n",
       "      <td>2388.0000</td>\n",
       "      <td>2388.0000</td>\n",
       "      <td>2388.0000</td>\n",
       "      <td>2388.0000</td>\n",
       "      <td>2388.0000</td>\n",
       "    </tr>\n",
       "    <tr>\n",
       "      <th>sensor_measurement_19</th>\n",
       "      <td>20631.0</td>\n",
       "      <td>100.000000</td>\n",
       "      <td>0.000000e+00</td>\n",
       "      <td>100.0000</td>\n",
       "      <td>100.0000</td>\n",
       "      <td>100.0000</td>\n",
       "      <td>100.0000</td>\n",
       "      <td>100.0000</td>\n",
       "    </tr>\n",
       "    <tr>\n",
       "      <th>sensor_measurement_20</th>\n",
       "      <td>20631.0</td>\n",
       "      <td>38.816271</td>\n",
       "      <td>1.807464e-01</td>\n",
       "      <td>38.1400</td>\n",
       "      <td>38.7000</td>\n",
       "      <td>38.8300</td>\n",
       "      <td>38.9500</td>\n",
       "      <td>39.4300</td>\n",
       "    </tr>\n",
       "    <tr>\n",
       "      <th>sensor_measurement_21</th>\n",
       "      <td>20631.0</td>\n",
       "      <td>23.289705</td>\n",
       "      <td>1.082509e-01</td>\n",
       "      <td>22.8942</td>\n",
       "      <td>23.2218</td>\n",
       "      <td>23.2979</td>\n",
       "      <td>23.3668</td>\n",
       "      <td>23.6184</td>\n",
       "    </tr>\n",
       "  </tbody>\n",
       "</table>\n",
       "</div>"
      ],
      "text/plain": [
       "                         count         mean           std        min  \\\n",
       "engine_id              20631.0    51.506568  2.922763e+01     1.0000   \n",
       "cycle                  20631.0   108.807862  6.888099e+01     1.0000   \n",
       "operational_setting_1  20631.0    -0.000009  2.187313e-03    -0.0087   \n",
       "operational_setting_2  20631.0     0.000002  2.930621e-04    -0.0006   \n",
       "operational_setting_3  20631.0   100.000000  0.000000e+00   100.0000   \n",
       "sensor_measurement_1   20631.0   518.670000  0.000000e+00   518.6700   \n",
       "sensor_measurement_2   20631.0   642.680934  5.000533e-01   641.2100   \n",
       "sensor_measurement_3   20631.0  1590.523119  6.131150e+00  1571.0400   \n",
       "sensor_measurement_4   20631.0  1408.933782  9.000605e+00  1382.2500   \n",
       "sensor_measurement_5   20631.0    14.620000  1.776400e-15    14.6200   \n",
       "sensor_measurement_6   20631.0    21.609803  1.388985e-03    21.6000   \n",
       "sensor_measurement_7   20631.0   553.367711  8.850923e-01   549.8500   \n",
       "sensor_measurement_8   20631.0  2388.096652  7.098548e-02  2387.9000   \n",
       "sensor_measurement_9   20631.0  9065.242941  2.208288e+01  9021.7300   \n",
       "sensor_measurement_10  20631.0     1.300000  0.000000e+00     1.3000   \n",
       "sensor_measurement_11  20631.0    47.541168  2.670874e-01    46.8500   \n",
       "sensor_measurement_12  20631.0   521.413470  7.375534e-01   518.6900   \n",
       "sensor_measurement_13  20631.0  2388.096152  7.191892e-02  2387.8800   \n",
       "sensor_measurement_14  20631.0  8143.752722  1.907618e+01  8099.9400   \n",
       "sensor_measurement_15  20631.0     8.442146  3.750504e-02     8.3249   \n",
       "sensor_measurement_16  20631.0     0.030000  1.387812e-17     0.0300   \n",
       "sensor_measurement_17  20631.0   393.210654  1.548763e+00   388.0000   \n",
       "sensor_measurement_18  20631.0  2388.000000  0.000000e+00  2388.0000   \n",
       "sensor_measurement_19  20631.0   100.000000  0.000000e+00   100.0000   \n",
       "sensor_measurement_20  20631.0    38.816271  1.807464e-01    38.1400   \n",
       "sensor_measurement_21  20631.0    23.289705  1.082509e-01    22.8942   \n",
       "\n",
       "                             25%        50%        75%        max  \n",
       "engine_id                26.0000    52.0000    77.0000   100.0000  \n",
       "cycle                    52.0000   104.0000   156.0000   362.0000  \n",
       "operational_setting_1    -0.0015     0.0000     0.0015     0.0087  \n",
       "operational_setting_2    -0.0002     0.0000     0.0003     0.0006  \n",
       "operational_setting_3   100.0000   100.0000   100.0000   100.0000  \n",
       "sensor_measurement_1    518.6700   518.6700   518.6700   518.6700  \n",
       "sensor_measurement_2    642.3250   642.6400   643.0000   644.5300  \n",
       "sensor_measurement_3   1586.2600  1590.1000  1594.3800  1616.9100  \n",
       "sensor_measurement_4   1402.3600  1408.0400  1414.5550  1441.4900  \n",
       "sensor_measurement_5     14.6200    14.6200    14.6200    14.6200  \n",
       "sensor_measurement_6     21.6100    21.6100    21.6100    21.6100  \n",
       "sensor_measurement_7    552.8100   553.4400   554.0100   556.0600  \n",
       "sensor_measurement_8   2388.0500  2388.0900  2388.1400  2388.5600  \n",
       "sensor_measurement_9   9053.1000  9060.6600  9069.4200  9244.5900  \n",
       "sensor_measurement_10     1.3000     1.3000     1.3000     1.3000  \n",
       "sensor_measurement_11    47.3500    47.5100    47.7000    48.5300  \n",
       "sensor_measurement_12   520.9600   521.4800   521.9500   523.3800  \n",
       "sensor_measurement_13  2388.0400  2388.0900  2388.1400  2388.5600  \n",
       "sensor_measurement_14  8133.2450  8140.5400  8148.3100  8293.7200  \n",
       "sensor_measurement_15     8.4149     8.4389     8.4656     8.5848  \n",
       "sensor_measurement_16     0.0300     0.0300     0.0300     0.0300  \n",
       "sensor_measurement_17   392.0000   393.0000   394.0000   400.0000  \n",
       "sensor_measurement_18  2388.0000  2388.0000  2388.0000  2388.0000  \n",
       "sensor_measurement_19   100.0000   100.0000   100.0000   100.0000  \n",
       "sensor_measurement_20    38.7000    38.8300    38.9500    39.4300  \n",
       "sensor_measurement_21    23.2218    23.2979    23.3668    23.6184  "
      ]
     },
     "metadata": {},
     "output_type": "display_data"
    }
   ],
   "source": [
    "display(train_df.head(5))\n",
    "print(train_df.shape)\n",
    "train_df.info()\n",
    "display(train_df.describe().T)"
   ]
  },
  {
   "cell_type": "markdown",
   "id": "9359e7c0",
   "metadata": {},
   "source": [
    "From the output we can see that the dataframe contains 20,621 rows and 26 columns , two of the columns Engine Id and the cycle are integers while the other columns are floats."
   ]
  },
  {
   "cell_type": "code",
   "execution_count": 13,
   "id": "3e95a38c",
   "metadata": {},
   "outputs": [
    {
     "data": {
      "application/vnd.microsoft.datawrangler.viewer.v0+json": {
       "columns": [
        {
         "name": "index",
         "rawType": "object",
         "type": "string"
        },
        {
         "name": "0",
         "rawType": "int64",
         "type": "integer"
        }
       ],
       "ref": "6e34fdf3-ba24-494c-a72d-6f21bc9419e1",
       "rows": [
        [
         "engine_id",
         "100"
        ],
        [
         "cycle",
         "362"
        ],
        [
         "operational_setting_1",
         "158"
        ],
        [
         "operational_setting_2",
         "13"
        ],
        [
         "operational_setting_3",
         "1"
        ],
        [
         "sensor_measurement_1",
         "1"
        ],
        [
         "sensor_measurement_2",
         "310"
        ],
        [
         "sensor_measurement_3",
         "3012"
        ],
        [
         "sensor_measurement_4",
         "4051"
        ],
        [
         "sensor_measurement_5",
         "1"
        ],
        [
         "sensor_measurement_6",
         "2"
        ],
        [
         "sensor_measurement_7",
         "513"
        ],
        [
         "sensor_measurement_8",
         "53"
        ],
        [
         "sensor_measurement_9",
         "6403"
        ],
        [
         "sensor_measurement_10",
         "1"
        ],
        [
         "sensor_measurement_11",
         "159"
        ],
        [
         "sensor_measurement_12",
         "427"
        ],
        [
         "sensor_measurement_13",
         "56"
        ],
        [
         "sensor_measurement_14",
         "6078"
        ],
        [
         "sensor_measurement_15",
         "1918"
        ],
        [
         "sensor_measurement_16",
         "1"
        ],
        [
         "sensor_measurement_17",
         "13"
        ],
        [
         "sensor_measurement_18",
         "1"
        ],
        [
         "sensor_measurement_19",
         "1"
        ],
        [
         "sensor_measurement_20",
         "120"
        ],
        [
         "sensor_measurement_21",
         "4745"
        ]
       ],
       "shape": {
        "columns": 1,
        "rows": 26
       }
      },
      "text/plain": [
       "engine_id                 100\n",
       "cycle                     362\n",
       "operational_setting_1     158\n",
       "operational_setting_2      13\n",
       "operational_setting_3       1\n",
       "sensor_measurement_1        1\n",
       "sensor_measurement_2      310\n",
       "sensor_measurement_3     3012\n",
       "sensor_measurement_4     4051\n",
       "sensor_measurement_5        1\n",
       "sensor_measurement_6        2\n",
       "sensor_measurement_7      513\n",
       "sensor_measurement_8       53\n",
       "sensor_measurement_9     6403\n",
       "sensor_measurement_10       1\n",
       "sensor_measurement_11     159\n",
       "sensor_measurement_12     427\n",
       "sensor_measurement_13      56\n",
       "sensor_measurement_14    6078\n",
       "sensor_measurement_15    1918\n",
       "sensor_measurement_16       1\n",
       "sensor_measurement_17      13\n",
       "sensor_measurement_18       1\n",
       "sensor_measurement_19       1\n",
       "sensor_measurement_20     120\n",
       "sensor_measurement_21    4745\n",
       "dtype: int64"
      ]
     },
     "metadata": {},
     "output_type": "display_data"
    }
   ],
   "source": [
    " # Getting the number of unique values \n",
    "display(train_df.nunique())"
   ]
  },
  {
   "cell_type": "code",
   "execution_count": 18,
   "id": "b316c370",
   "metadata": {},
   "outputs": [
    {
     "data": {
      "application/vnd.microsoft.datawrangler.viewer.v0+json": {
       "columns": [
        {
         "name": "index",
         "rawType": "object",
         "type": "string"
        },
        {
         "name": "0",
         "rawType": "int64",
         "type": "integer"
        }
       ],
       "ref": "15ed9731-a905-41be-bb45-075d8efee07e",
       "rows": [
        [
         "engine_id",
         "0"
        ],
        [
         "cycle",
         "0"
        ],
        [
         "operational_setting_1",
         "0"
        ],
        [
         "operational_setting_2",
         "0"
        ],
        [
         "operational_setting_3",
         "0"
        ],
        [
         "sensor_measurement_1",
         "0"
        ],
        [
         "sensor_measurement_2",
         "0"
        ],
        [
         "sensor_measurement_3",
         "0"
        ],
        [
         "sensor_measurement_4",
         "0"
        ],
        [
         "sensor_measurement_5",
         "0"
        ],
        [
         "sensor_measurement_6",
         "0"
        ],
        [
         "sensor_measurement_7",
         "0"
        ],
        [
         "sensor_measurement_8",
         "0"
        ],
        [
         "sensor_measurement_9",
         "0"
        ],
        [
         "sensor_measurement_10",
         "0"
        ],
        [
         "sensor_measurement_11",
         "0"
        ],
        [
         "sensor_measurement_12",
         "0"
        ],
        [
         "sensor_measurement_13",
         "0"
        ],
        [
         "sensor_measurement_14",
         "0"
        ],
        [
         "sensor_measurement_15",
         "0"
        ],
        [
         "sensor_measurement_16",
         "0"
        ],
        [
         "sensor_measurement_17",
         "0"
        ],
        [
         "sensor_measurement_18",
         "0"
        ],
        [
         "sensor_measurement_19",
         "0"
        ],
        [
         "sensor_measurement_20",
         "0"
        ],
        [
         "sensor_measurement_21",
         "0"
        ]
       ],
       "shape": {
        "columns": 1,
        "rows": 26
       }
      },
      "text/plain": [
       "engine_id                0\n",
       "cycle                    0\n",
       "operational_setting_1    0\n",
       "operational_setting_2    0\n",
       "operational_setting_3    0\n",
       "sensor_measurement_1     0\n",
       "sensor_measurement_2     0\n",
       "sensor_measurement_3     0\n",
       "sensor_measurement_4     0\n",
       "sensor_measurement_5     0\n",
       "sensor_measurement_6     0\n",
       "sensor_measurement_7     0\n",
       "sensor_measurement_8     0\n",
       "sensor_measurement_9     0\n",
       "sensor_measurement_10    0\n",
       "sensor_measurement_11    0\n",
       "sensor_measurement_12    0\n",
       "sensor_measurement_13    0\n",
       "sensor_measurement_14    0\n",
       "sensor_measurement_15    0\n",
       "sensor_measurement_16    0\n",
       "sensor_measurement_17    0\n",
       "sensor_measurement_18    0\n",
       "sensor_measurement_19    0\n",
       "sensor_measurement_20    0\n",
       "sensor_measurement_21    0\n",
       "dtype: int64"
      ]
     },
     "metadata": {},
     "output_type": "display_data"
    },
    {
     "data": {
      "text/plain": [
       "np.int64(0)"
      ]
     },
     "metadata": {},
     "output_type": "display_data"
    }
   ],
   "source": [
    "# getting the null values \n",
    "display(train_df.isnull().sum())\n",
    "\n",
    "# Getting duplicated values\n",
    "display(train_df.duplicated().sum())"
   ]
  },
  {
   "cell_type": "markdown",
   "id": "0da653ad",
   "metadata": {},
   "source": [
    "From the output we can see that there are no duplicated values nor are there any null values in.we will then check the number of cycles each engine goes through untill failure "
   ]
  },
  {
   "cell_type": "code",
   "execution_count": 33,
   "id": "310e3b51",
   "metadata": {},
   "outputs": [
    {
     "data": {
      "application/vnd.microsoft.datawrangler.viewer.v0+json": {
       "columns": [
        {
         "name": "engine_id",
         "rawType": "int64",
         "type": "integer"
        },
        {
         "name": "cycle",
         "rawType": "int64",
         "type": "integer"
        }
       ],
       "ref": "cec23278-ad0a-461a-83ac-13a9741fe443",
       "rows": [
        [
         "69",
         "362"
        ],
        [
         "92",
         "341"
        ],
        [
         "96",
         "336"
        ],
        [
         "67",
         "313"
        ],
        [
         "83",
         "293"
        ],
        [
         "2",
         "287"
        ],
        [
         "64",
         "283"
        ],
        [
         "95",
         "283"
        ],
        [
         "86",
         "278"
        ],
        [
         "17",
         "276"
        ],
        [
         "56",
         "275"
        ],
        [
         "5",
         "269"
        ],
        [
         "84",
         "267"
        ],
        [
         "7",
         "259"
        ],
        [
         "94",
         "258"
        ],
        [
         "54",
         "257"
        ],
        [
         "46",
         "256"
        ],
        [
         "11",
         "240"
        ],
        [
         "81",
         "240"
        ],
        [
         "20",
         "234"
        ],
        [
         "31",
         "234"
        ],
        [
         "59",
         "231"
        ],
        [
         "48",
         "231"
        ],
        [
         "78",
         "231"
        ],
        [
         "25",
         "230"
        ],
        [
         "75",
         "229"
        ],
        [
         "10",
         "222"
        ],
        [
         "89",
         "217"
        ],
        [
         "41",
         "216"
        ],
        [
         "49",
         "215"
        ],
        [
         "47",
         "214"
        ],
        [
         "82",
         "214"
        ],
        [
         "88",
         "213"
        ],
        [
         "51",
         "213"
        ],
        [
         "72",
         "213"
        ],
        [
         "73",
         "213"
        ],
        [
         "52",
         "213"
        ],
        [
         "76",
         "210"
        ],
        [
         "16",
         "209"
        ],
        [
         "71",
         "208"
        ],
        [
         "43",
         "207"
        ],
        [
         "15",
         "207"
        ],
        [
         "97",
         "202"
        ],
        [
         "66",
         "202"
        ],
        [
         "22",
         "202"
        ],
        [
         "9",
         "201"
        ],
        [
         "33",
         "200"
        ],
        [
         "100",
         "200"
        ],
        [
         "79",
         "199"
        ],
        [
         "26",
         "199"
        ]
       ],
       "shape": {
        "columns": 1,
        "rows": 100
       }
      },
      "text/plain": [
       "engine_id\n",
       "69    362\n",
       "92    341\n",
       "96    336\n",
       "67    313\n",
       "83    293\n",
       "     ... \n",
       "58    147\n",
       "70    137\n",
       "57    137\n",
       "91    135\n",
       "39    128\n",
       "Name: cycle, Length: 100, dtype: int64"
      ]
     },
     "metadata": {},
     "output_type": "display_data"
    }
   ],
   "source": [
    "display((train_df.groupby('engine_id')['cycle'].max()).sort_values(ascending=False))\n"
   ]
  },
  {
   "cell_type": "markdown",
   "id": "a376f26b",
   "metadata": {},
   "source": [
    "From the output we can see that engine 69 has the highest number of cycles at 362 while egine 39 has the lowest number of cycles at 128."
   ]
  },
  {
   "cell_type": "code",
   "execution_count": null,
   "id": "230a8d0a",
   "metadata": {},
   "outputs": [],
   "source": []
  }
 ],
 "metadata": {
  "kernelspec": {
   "display_name": "Python 3",
   "language": "python",
   "name": "python3"
  },
  "language_info": {
   "codemirror_mode": {
    "name": "ipython",
    "version": 3
   },
   "file_extension": ".py",
   "mimetype": "text/x-python",
   "name": "python",
   "nbconvert_exporter": "python",
   "pygments_lexer": "ipython3",
   "version": "3.12.10"
  }
 },
 "nbformat": 4,
 "nbformat_minor": 5
}
