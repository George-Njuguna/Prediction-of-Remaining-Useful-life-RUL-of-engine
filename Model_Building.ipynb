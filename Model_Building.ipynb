{
 "cells": [
  {
   "cell_type": "markdown",
   "id": "ff86b7ce",
   "metadata": {},
   "source": [
    "### **MODELING**\n",
    "\n",
    "In this section, we will focus on building and evaluating predictive models for Remaining Useful Life (RUL):\n",
    "\n",
    "1. **Baseline Model:**\n",
    "\n",
    "   * We will first implement a **Linear Regression model** as a baseline.\n",
    "   * This will help us evaluate the impact of scaling and feature engineering on model performance.\n",
    "\n",
    "2. **Advanced Models:**\n",
    "\n",
    "   * After establishing the baseline, we will model the data using more advanced algorithms:\n",
    "\n",
    "     * **XGBoost**\n",
    "     * **NGBoost**\n",
    "     * **Decision Trees**\n",
    "   * These models are chosen for their ability to capture non-linear relationships and complex feature interactions.\n",
    "\n",
    "3. **Model Evaluation:**\n",
    "\n",
    "   * The performance of each model will be assessed using regression metrics such as:\n",
    "\n",
    "     * **Root Mean Squared Error (RMSE)**\n",
    "     * **Mean Absolute Error (MAE)**\n",
    "     * **R² Score**\n",
    "   * This comparison will allow us to identify the best-performing model.\n",
    "\n",
    "4. **Model Optimization:**\n",
    "\n",
    "   * Once the best model is selected, we will perform **hyperparameter tuning** to further improve its predictive accuracy and generalization ability.\n",
    "\n",
    "**In conclusion, the modeling phase will provide both a baseline and advanced approaches, enabling us to compare performance across different methods and identify the optimal model to predict RUL effectively.**\n",
    "\n",
    "\n"
   ]
  },
  {
   "cell_type": "code",
   "execution_count": 3,
   "id": "5f75b0b1",
   "metadata": {},
   "outputs": [],
   "source": [
    " # Importing necessary libraries\n",
    "import xgboost as xgb\n",
    "from sklearn.model_selection import train_test_split, GridSearchCV\n",
    "from sklearn.linear_model import PoissonRegressor\n",
    "from sklearn.tree import DecisionTreeRegressor\n",
    "from sklearn.linear_model import Ridge\n",
    "from ngboost import NGBRegressor\n",
    "from ngboost.distns import LogNormal, Poisson\n",
    "from sklearn.metrics import accuracy_score, confusion_matrix , precision_score , recall_score , f1_score\n",
    "from sklearn.metrics import roc_curve, roc_auc_score\n",
    "from sklearn.model_selection import cross_val_score\n"
   ]
  }
 ],
 "metadata": {
  "kernelspec": {
   "display_name": "Python 3",
   "language": "python",
   "name": "python3"
  },
  "language_info": {
   "codemirror_mode": {
    "name": "ipython",
    "version": 3
   },
   "file_extension": ".py",
   "mimetype": "text/x-python",
   "name": "python",
   "nbconvert_exporter": "python",
   "pygments_lexer": "ipython3",
   "version": "3.12.10"
  }
 },
 "nbformat": 4,
 "nbformat_minor": 5
}
